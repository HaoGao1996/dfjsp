{
 "cells": [
  {
   "cell_type": "code",
   "execution_count": 1,
   "id": "5d760a70",
   "metadata": {
    "ExecuteTime": {
     "end_time": "2022-10-22T16:08:48.221399Z",
     "start_time": "2022-10-22T16:08:47.859582Z"
    }
   },
   "outputs": [],
   "source": [
    "import pandas as pd"
   ]
  },
  {
   "cell_type": "code",
   "execution_count": 4,
   "id": "8a4451e9",
   "metadata": {
    "ExecuteTime": {
     "end_time": "2022-10-22T16:28:02.992890Z",
     "start_time": "2022-10-22T16:28:02.979506Z"
    }
   },
   "outputs": [],
   "source": [
    "test = pd.read_csv(\"../tmp_result/test.csv\")"
   ]
  },
  {
   "cell_type": "code",
   "execution_count": 5,
   "id": "e2cedc2d",
   "metadata": {
    "ExecuteTime": {
     "end_time": "2022-10-22T16:28:05.238808Z",
     "start_time": "2022-10-22T16:28:05.234145Z"
    }
   },
   "outputs": [],
   "source": [
    "def is_valid(x):\n",
    "    if x['online_net'] < x[\"random\"] and x['online_net'] < x[\"rule1\"] and x['online_net'] < x[\"rule2\"]:\n",
    "        return 1\n",
    "    else:\n",
    "        return 0"
   ]
  },
  {
   "cell_type": "code",
   "execution_count": 7,
   "id": "b852ce11",
   "metadata": {
    "ExecuteTime": {
     "end_time": "2022-10-22T16:28:22.328301Z",
     "start_time": "2022-10-22T16:28:22.315846Z"
    }
   },
   "outputs": [
    {
     "data": {
      "text/plain": [
       "Index(['Unnamed: 0', 'sample_num', 'online_net', 'random', 'rule1', 'rule2'], dtype='object')"
      ]
     },
     "execution_count": 7,
     "metadata": {},
     "output_type": "execute_result"
    }
   ],
   "source": [
    "test.columns"
   ]
  },
  {
   "cell_type": "code",
   "execution_count": 10,
   "id": "3e6b80ef",
   "metadata": {
    "ExecuteTime": {
     "end_time": "2022-10-22T16:29:03.622649Z",
     "start_time": "2022-10-22T16:29:03.595521Z"
    }
   },
   "outputs": [
    {
     "data": {
      "text/plain": [
       "220"
      ]
     },
     "execution_count": 10,
     "metadata": {},
     "output_type": "execute_result"
    }
   ],
   "source": [
    "test.apply(is_valid, axis=1).sum()"
   ]
  },
  {
   "cell_type": "code",
   "execution_count": null,
   "id": "9365bce2",
   "metadata": {},
   "outputs": [],
   "source": []
  }
 ],
 "metadata": {
  "kernelspec": {
   "display_name": "Python 3 (ipykernel)",
   "language": "python",
   "name": "python3"
  },
  "language_info": {
   "codemirror_mode": {
    "name": "ipython",
    "version": 3
   },
   "file_extension": ".py",
   "mimetype": "text/x-python",
   "name": "python",
   "nbconvert_exporter": "python",
   "pygments_lexer": "ipython3",
   "version": "3.8.0"
  },
  "latex_envs": {
   "LaTeX_envs_menu_present": true,
   "autoclose": true,
   "autocomplete": true,
   "bibliofile": "biblio.bib",
   "cite_by": "apalike",
   "current_citInitial": 1,
   "eqLabelWithNumbers": true,
   "eqNumInitial": 1,
   "hotkeys": {
    "equation": "Ctrl-E",
    "itemize": "Ctrl-I"
   },
   "labels_anchors": false,
   "latex_user_defs": false,
   "report_style_numbering": true,
   "user_envs_cfg": true
  },
  "varInspector": {
   "cols": {
    "lenName": 16,
    "lenType": 16,
    "lenVar": 40
   },
   "kernels_config": {
    "python": {
     "delete_cmd_postfix": "",
     "delete_cmd_prefix": "del ",
     "library": "var_list.py",
     "varRefreshCmd": "print(var_dic_list())"
    },
    "r": {
     "delete_cmd_postfix": ") ",
     "delete_cmd_prefix": "rm(",
     "library": "var_list.r",
     "varRefreshCmd": "cat(var_dic_list()) "
    }
   },
   "types_to_exclude": [
    "module",
    "function",
    "builtin_function_or_method",
    "instance",
    "_Feature"
   ],
   "window_display": false
  }
 },
 "nbformat": 4,
 "nbformat_minor": 5
}
